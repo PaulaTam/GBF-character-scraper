{
 "cells": [
  {
   "cell_type": "markdown",
   "id": "6d8ff7fe",
   "metadata": {},
   "source": [
    "### Author: Paula Abigail Tam\n",
    "### Project: GBF character dataset\n",
    "\n",
    "This project is to scrape the character data from the tierlist on GBFwiki. End goal is to make a visualizer to make character statistics more digestible.\n",
    "\n",
    "Example: To be able to compare the number of Dark SSR characters vs number of Light SSR characters."
   ]
  },
  {
   "cell_type": "code",
   "execution_count": null,
   "id": "d45ae3ae",
   "metadata": {},
   "outputs": [],
   "source": [
    "#imports2\n",
    "import requests\n",
    "import pandas as pd\n",
    "import re\n",
    "from selenium import webdriver\n",
    "from selenium.webdriver.chrome.service import Service as ChromeService\n",
    "from webdriver_manager.chrome import ChromeDriverManager\n",
    "from selectolax.parser import HTMLParser\n",
    "from IPython.display import display"
   ]
  },
  {
   "cell_type": "code",
   "execution_count": null,
   "id": "79504c46",
   "metadata": {},
   "outputs": [],
   "source": [
    "#selenium driver since gbfwiki made website dynamic\n",
    "options = webdriver.ChromeOptions()\n",
    "options.add_argument('--headless=new')\n",
    "options.binary_location = \"/Applications/Google Chrome.app/Contents/MacOS/Google Chrome\""
   ]
  },
  {
   "cell_type": "code",
   "execution_count": null,
   "id": "56df91b9",
   "metadata": {},
   "outputs": [],
   "source": [
    "driver = webdriver.Chrome(service=ChromeService(ChromeDriverManager().install()), options=options)\n",
    "#character data url\n",
    "URL = \"https://gbf.wiki/Character_Tier_List/Gamewith/Ratings\"\n",
    "driver.get(URL)"
   ]
  },
  {
   "cell_type": "code",
   "execution_count": null,
   "id": "1bbab924",
   "metadata": {},
   "outputs": [],
   "source": [
    "#selectolax try\n",
    "html = driver.page_source\n",
    "tree = HTMLParser(html)\n",
    "\n",
    "body = tree.body\n",
    "table = body.css('table.tierlist-details')[0]\n",
    "tr = table.child.css('[data-short-id]')"
   ]
  },
  {
   "cell_type": "code",
   "execution_count": null,
   "id": "69dfc66d",
   "metadata": {},
   "outputs": [],
   "source": [
    "#function to determine rarity of character\n",
    "def chara_rarity(id_num):\n",
    "    match id_num:\n",
    "        case \"4\":\n",
    "            return \"SSR\"\n",
    "        case \"3\":\n",
    "            return \"SR\"\n",
    "        case \"2\":\n",
    "            return \"R\""
   ]
  },
  {
   "cell_type": "code",
   "execution_count": null,
   "id": "c1828728",
   "metadata": {},
   "outputs": [],
   "source": [
    "#function to determine a character's element\n",
    "def which_element(element_n):\n",
    "    match element_n:\n",
    "        case \"01\":\n",
    "            return \"Fire\"\n",
    "        case \"02\":\n",
    "            return \"Water\"\n",
    "        case \"03\":\n",
    "            return \"Earth\"\n",
    "        case \"04\":\n",
    "            return \"Wind\"\n",
    "        case \"05\":\n",
    "            return \"Light\"\n",
    "        case \"06\":\n",
    "            return \"Dark\"\n",
    "        case default:\n",
    "            return \"Any\""
   ]
  },
  {
   "cell_type": "code",
   "execution_count": null,
   "id": "47bd21fc",
   "metadata": {},
   "outputs": [],
   "source": [
    "#function to check if multiple series / weapons\n",
    "def is_multiple(string):\n",
    "    line = string.split(\",\")\n",
    "    return line"
   ]
  },
  {
   "cell_type": "code",
   "execution_count": null,
   "id": "de835eb4",
   "metadata": {},
   "outputs": [],
   "source": [
    "#function to rename series\n",
    "def which_series(series_name):\n",
    "    match series_name:\n",
    "        case \"\":\n",
    "            return \"-\"\n",
    "        case \"none\":\n",
    "            return \"Permanent\"\n",
    "        case \"tie-in\":\n",
    "            return \"Tie-In / Collab\"\n",
    "        case \"12generals\":\n",
    "            return \"Zodiac\"\n",
    "        case \"evokers\":\n",
    "            return \"Evoker\"\n",
    "        case \"eternals\":\n",
    "            return \"Eternal\"\n",
    "        case default:\n",
    "            return series_name.capitalize()"
   ]
  },
  {
   "cell_type": "code",
   "execution_count": null,
   "id": "6f6f7389",
   "metadata": {},
   "outputs": [],
   "source": [
    "#function to get rating of character\n",
    "def get_rating(item):\n",
    "    return item.child.next.next.next.text()"
   ]
  },
  {
   "cell_type": "code",
   "execution_count": null,
   "id": "63ca2e2d",
   "metadata": {},
   "outputs": [],
   "source": [
    "#function to get name of character\n",
    "def access_name(item):\n",
    "    return item.child.next.child.attributes.get('title')"
   ]
  },
  {
   "cell_type": "code",
   "execution_count": null,
   "id": "b4141d3d",
   "metadata": {},
   "outputs": [],
   "source": [
    "#function to get url of character\n",
    "def access_details(item):\n",
    "    url = item.child.next.child.attributes.get('href')\n",
    "    chara_url = \"https://gbf.wiki\" + url\n",
    "    return chara_url"
   ]
  },
  {
   "cell_type": "code",
   "execution_count": null,
   "id": "3401e4d9",
   "metadata": {},
   "outputs": [],
   "source": [
    "list_of_charas = []\n",
    "\n",
    "for i in tr:\n",
    "    item = i.attributes\n",
    "    chara_id = item.get('data-short-id')\n",
    "    series = is_multiple(item.get('data-filter-series'))\n",
    "    wep = is_multiple(item.get('data-filter-weapon'))\n",
    "    race = is_multiple(item.get('data-filter-race'))\n",
    "    \n",
    "    chara_info = {}\n",
    "    chara_info['ID'] = chara_id\n",
    "    chara_info['Rating'] = get_rating(i)\n",
    "    chara_info['Rarity'] = chara_rarity(chara_id[0])\n",
    "    #element (need to do more detailed)\n",
    "    chara_info['Name'] = access_name(i)\n",
    "    \n",
    "    chara_info['Series'] = which_series(series[0]) #seasonal/grand/etc.\n",
    "    if len(series) > 1:\n",
    "        chara_info['2nd Series'] = which_series(series[1])\n",
    "    else:\n",
    "        chara_info['2nd Series'] = \"-\"\n",
    "\n",
    "    chara_info['Weapon'] = wep[0].capitalize()\n",
    "    if len(wep) > 1:\n",
    "        chara_info['2nd Weapon'] = wep[1].capitalize()\n",
    "    else:\n",
    "        chara_info['2nd Weapon'] = \"-\"\n",
    "\n",
    "    chara_info['Race'] = race[0].capitalize()\n",
    "    if len(race) > 1:\n",
    "        chara_info['2nd Race'] = race[1].capitalize()\n",
    "    else:\n",
    "        chara_info['2nd Race'] = \"-\"\n",
    "       \n",
    "    chara_info['Type'] = item.get('data-filter-style').capitalize()\n",
    "    chara_info['URL'] = access_details(i)\n",
    "    \n",
    "    list_of_charas.append(chara_info)\n",
    "    \n",
    "driver.quit()"
   ]
  },
  {
   "cell_type": "code",
   "execution_count": null,
   "id": "9cebb9bf",
   "metadata": {},
   "outputs": [],
   "source": [
    "df = pd.DataFrame(list_of_charas)"
   ]
  },
  {
   "cell_type": "code",
   "execution_count": null,
   "id": "6a48d49b",
   "metadata": {},
   "outputs": [],
   "source": [
    "url_list = df[\"URL\"].values.tolist()"
   ]
  },
  {
   "cell_type": "code",
   "execution_count": null,
   "id": "a46ddba3",
   "metadata": {},
   "outputs": [],
   "source": [
    "print(url_list)"
   ]
  },
  {
   "cell_type": "code",
   "execution_count": null,
   "id": "375dc604",
   "metadata": {},
   "outputs": [],
   "source": [
    "#function to return only number \n",
    "def get_number(item):\n",
    "    res = item.css('td')[0].text()\n",
    "    ans = re.findall(\"\\d+\", res)[0]\n",
    "    return ans"
   ]
  },
  {
   "cell_type": "code",
   "execution_count": null,
   "id": "35399036",
   "metadata": {},
   "outputs": [],
   "source": [
    "def get_element(item, stats):\n",
    "    n = 0\n",
    "    for idx, i in enumerate(item):\n",
    "        if i.text() == \"Element\":\n",
    "            n += idx\n",
    "    \n",
    "    ele = stats[n].css('td')[0].css_first('span').text()\n",
    "    return which_element(ele)"
   ]
  },
  {
   "cell_type": "code",
   "execution_count": null,
   "id": "1c5afd41",
   "metadata": {},
   "outputs": [],
   "source": [
    "detail_list = []\n",
    "for url in url_list:\n",
    "    driver = webdriver.Chrome(service=ChromeService(ChromeDriverManager().install()), options=options)\n",
    "    driver.get(url)\n",
    "    test_html = driver.page_source\n",
    "    test_tree = HTMLParser(test_html)\n",
    "\n",
    "    test_body = test_tree.body\n",
    "    test_table = test_body.css('[data-title=\"Stats\"]')[0]\n",
    "    ele_span = test_table.css('th') \n",
    "    stats_list = test_table.css('tr')\n",
    "\n",
    "    chara_info = {}\n",
    "\n",
    "    chara_info['URL'] = url\n",
    "    chara_info['HP'] = get_number(stats_list[1])\n",
    "    chara_info['ATK'] = get_number(stats_list[2])\n",
    "    chara_info['Element'] = get_element(ele_span, stats_list)\n",
    "    chara_info['Gender'] = test_table.css('[data-icon]')[0].attributes.get('data-icon').capitalize()\n",
    "    chara_info['VA'] = test_table.css_first('tbody').last_child.prev.css('td')[0].text()\n",
    "\n",
    "    detail_list.append(chara_info)\n",
    "\n",
    "    driver.quit()"
   ]
  },
  {
   "cell_type": "code",
   "execution_count": null,
   "id": "d17f9208",
   "metadata": {},
   "outputs": [],
   "source": [
    "print(detail_list)"
   ]
  },
  {
   "cell_type": "code",
   "execution_count": null,
   "id": "d941a2e4",
   "metadata": {},
   "outputs": [],
   "source": [
    "df2 = pd.DataFrame(detail_list)"
   ]
  },
  {
   "cell_type": "code",
   "execution_count": null,
   "id": "4322c374",
   "metadata": {},
   "outputs": [],
   "source": [
    "df_merged = pd.merge(df, df2, on='URL', how='inner')"
   ]
  },
  {
   "cell_type": "code",
   "execution_count": null,
   "id": "9f38fe6a",
   "metadata": {},
   "outputs": [],
   "source": [
    "#removed col 15 (Gender) as it got some wrong values\n",
    "#rearranged columns to have URL at end\n",
    "df_reordered = df_merged.iloc[:, [0, 1, 2, 14, 3, 4, 5, 6, 7, 8, 9, 10, 12, 13, 16, 11]]"
   ]
  },
  {
   "cell_type": "code",
   "execution_count": null,
   "id": "70926871",
   "metadata": {},
   "outputs": [],
   "source": [
    "with pd.option_context('display.max_rows', None, 'display.max_columns', None):\n",
    "    display(df_reordered)"
   ]
  },
  {
   "cell_type": "code",
   "execution_count": null,
   "id": "490c5e65",
   "metadata": {},
   "outputs": [],
   "source": [
    "df_reordered.to_csv('GBF_character_dataset_04_14_2025.csv', index=False)"
   ]
  },
  {
   "cell_type": "code",
   "execution_count": null,
   "id": "e11cd13d",
   "metadata": {},
   "outputs": [],
   "source": []
  }
 ],
 "metadata": {
  "kernelspec": {
   "display_name": "Python 3 (ipykernel)",
   "language": "python",
   "name": "python3"
  },
  "language_info": {
   "codemirror_mode": {
    "name": "ipython",
    "version": 3
   },
   "file_extension": ".py",
   "mimetype": "text/x-python",
   "name": "python",
   "nbconvert_exporter": "python",
   "pygments_lexer": "ipython3",
   "version": "3.10.0"
  }
 },
 "nbformat": 4,
 "nbformat_minor": 5
}
